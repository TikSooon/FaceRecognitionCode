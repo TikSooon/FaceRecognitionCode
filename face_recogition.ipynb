{
 "cells": [
  {
   "cell_type": "code",
   "execution_count": 1,
   "id": "d1d63a62",
   "metadata": {},
   "outputs": [],
   "source": [
    "#import OpenCV module\n",
    "import cv2\n",
    "import os\n",
    "os.environ['TF_CPP_MIN_LOG_LEVEL'] = '3' \n",
    "import numpy as np\n",
    "from deepface import DeepFace\n",
    "import firebase_admin\n",
    "from firebase_admin import firestore_async, credentials, messaging\n",
    "from datetime import datetime\n",
    "from google.cloud import storage\n",
    "\n",
    "predicted = []\n",
    "default_app = firebase_admin.initialize_app()\n",
    "\n",
    "#function to get subject names\n",
    "def get_subject():\n",
    "    file = open(\"/Users/wongtiksoon/Desktop/SMS/subject.txt\", 'r+')\n",
    "    data = file.readlines()\n",
    "    datas = []\n",
    "    for name in data:\n",
    "        name = name.replace('\\n', '')\n",
    "        datas.append(name)\n",
    "    datas.insert(0, \"\")\n",
    "    return datas\n",
    "\n",
    "#function to detect face\n",
    "def detect_face (img):\n",
    "    #convert the test image to gray image\n",
    "    gray = cv2.cvtColor (img, cv2.COLOR_BGR2GRAY)\n",
    "    #load OpenCV face detector\n",
    "    face_cas = cv2.CascadeClassifier('haarcascade_frontalface_default.xml')\n",
    "    faces = face_cas.detectMultiScale(gray, scaleFactor=1.3, minNeighbors=5)\n",
    "    #if no faces are detected then return image\n",
    "    if (len (faces) == 0):\n",
    "        return None, None\n",
    "    #extract the face\n",
    "    x = faces[0][0]\n",
    "    y = faces[0][1]\n",
    "    w = faces[0][2]\n",
    "    h = faces[0][3]\n",
    "    #return only the face part\n",
    "    return gray[y: y+w, x: x+h], faces[0]\n",
    "\n",
    "#this function will read all persons' training images, detect face #from each image\n",
    "#and will return two lists of exactly same size, one list\n",
    "def prepare_training_data(data_folder_path):\n",
    "    #------STEP-1--------\n",
    "    #get the directories (one directory for each subject) in data folder\n",
    "    dirs = os.listdir(data_folder_path)\n",
    "    faces = []\n",
    "    labels = []\n",
    "    for dir_name in dirs:\n",
    "        #our subject directories start with letter 's' so\n",
    "        #ignore any non-relevant directories if any\n",
    "        if not dir_name.startswith(\"s\"):\n",
    "            continue;\n",
    "        #------STEP-2--------\n",
    "        #extract label number of subject from dir_name\n",
    "        #format of dir name = slabel\n",
    "        #, so removing letter 's' from dir_name will give us label\n",
    "        label = int(dir_name.replace(\"s\", \"\"))\n",
    "        #build path of directory containing images for current subject subject\n",
    "        #sample subject_dir_path = \"training-data/s1\"\n",
    "        subject_dir_path = data_folder_path + \"/\" + dir_name\n",
    "        #get the images names that are inside the given subject directory\n",
    "        subject_images_names = os.listdir(subject_dir_path)\n",
    "        #------STEP-3--------\n",
    "        #go through each image name, read image,\n",
    "        #detect face and add face to list of faces\n",
    "        for image_name in subject_images_names:\n",
    "            #ignore system files like .DS_Store\n",
    "            if image_name.startswith(\".\"):\n",
    "                continue;\n",
    "            #build image path\n",
    "            #sample image path = training-data/s1/1.pgm\n",
    "            image_path = subject_dir_path + \"/\" + image_name\n",
    "            #read image\n",
    "            image = cv2.imread(image_path)\n",
    "            #display an image window to show the image\n",
    "#             cv2.imshow(\"Training on image...\", image)\n",
    "#             cv2.waitKey(100)\n",
    "            #detect face\n",
    "            face, rect = detect_face(image)\n",
    "            #------STEP-4--------\n",
    "            #we will ignore faces that are not detected\n",
    "            if face is not None:\n",
    "                #add face to list of faces\n",
    "                faces.append(face)\n",
    "                #add label for this face\n",
    "                labels.append(label)\n",
    "                cv2.destroyAllWindows()\n",
    "                cv2.waitKey(1)\n",
    "                cv2.destroyAllWindows()\n",
    "    return faces, labels\n",
    "\n",
    "#function to draw rectangle on image\n",
    "#according to given (x, y) coordinates and\n",
    "#given width and heigh\n",
    "def draw_rectangle(img, rect):\n",
    "    (x, y, w, h) = rect\n",
    "    cv2.rectangle(img, (x, y), (x+w, y+h), (0, 255, 0), 2)\n",
    "\n",
    "#function to draw text on give image starting from\n",
    "#passed (x, y) coordinates.\n",
    "def draw_text(img, text, x, y):\n",
    "    cv2.putText(img, text, (x, y), cv2.FONT_HERSHEY_PLAIN, 1.5, (0, 255, 0), 2)\n",
    "\n",
    "#this function recognizes the person in image passed\n",
    "#and draws a rectangle around detected face with name of the subject\n",
    "def predict(test_img):\n",
    "    global label_text\n",
    "    global emotion\n",
    "    #make a copy of the image as we don't want to change original image\n",
    "    img = test_img.copy()\n",
    "    #detect face from the image\n",
    "    face, rect = detect_face(img)\n",
    "    if face is not None:\n",
    "        #predict the image using our face recognizer\n",
    "        label = face_recognizer.predict(face)\n",
    "        #get name of respective label returned by face recognizer\n",
    "        subjects = get_subject()\n",
    "        label_text = subjects[label[0]]\n",
    "        predicted.append(label_text)\n",
    "        #detect emotion of face\n",
    "        result = DeepFace.analyze(test_img, enforce_detection=False)\n",
    "        emotion = result[0][\"dominant_emotion\"]\n",
    "        #draw a rectangle around face detected\n",
    "        draw_rectangle(img, rect)\n",
    "        #draw name of predicted person\n",
    "        draw_text(img, label_text + \"_\" + emotion, rect[0], rect[1]-5)\n",
    "        print(\"Confidence score being \" + label_text + \" is \" + str(label[1]))\n",
    "        return img\n",
    "    else:\n",
    "        print(\"Face not found!\")\n",
    "        return None\n",
    "        \n",
    "    \n",
    "    \n",
    "def upload(name, emotion, image, img_name):\n",
    "    \n",
    "    #Upload the attendance with name, date, time and emotion.\n",
    "    \n",
    "    os.environ['GOOGLE_APPLICATION_CREDENTIALS'] ='/Users/wongtiksoon/.config/gcloud/application_default_credentials.json'\n",
    "    db = firestore_async.Client(project=\"studentmonitoringsystem-2c071\")\n",
    "\n",
    "    # datetime object containing current date and time\n",
    "    upload = datetime.now()\n",
    "\n",
    "    # dd/mm/YY H:M:S\n",
    "    date = now.strftime(\"%d-%m-%Y\")\n",
    "    time = now.strftime(\"%H:%M:%S\")\n",
    "    \n",
    "    attendance = db.collection(\"attendance\").where(\"studentid\", \"!=\", \"\")\n",
    "    counter = 0\n",
    "\n",
    "    for doc in attendance.stream():   \n",
    "        counter = counter + 1\n",
    "        \n",
    "    studentdata = db.collection(\"student\").where(\"studentid\", \"!=\", \"\")\n",
    "    students = []\n",
    "    for student in studentdata.stream():   \n",
    "        formattedData = student.to_dict()\n",
    "        students.append(formattedData)\n",
    "\n",
    "    for student in students:\n",
    "        if student[\"name\"] == name:\n",
    "            studentid = student[\"studentid\"]\n",
    "\n",
    "    attendanceid = \"ATT\" + \"{:06d}\".format(counter+1)\n",
    "    \n",
    "    #upload image\n",
    "    client = storage.Client()\n",
    "    bucket_name = 'studentmonitoringsystem-2c071.appspot.com'\n",
    "    bucket = client.get_bucket(bucket_name)\n",
    "    # posting to firebase storage\n",
    "    imageBlob = bucket.blob(\"/\")\n",
    "    # imagePath = [os.path.join(self.path,f) for f in os.listdir(self.path)]\n",
    "    imagePath = image\n",
    "    imageBlob = bucket.blob(img_name)\n",
    "    imageBlob.upload_from_filename(imagePath)\n",
    "    \n",
    "    firebase_storageURL = 'https://firebasestorage.googleapis.com/v0/b/{}/o/{}?alt=media'.format(bucket_name, img_name)\n",
    "    \n",
    "    db.collection(\"attendance\").document(attendanceid).set({\n",
    "        \"attendanceid\": attendanceid,\n",
    "        \"studentid\": studentid,\n",
    "        \"emotion\": emotion,\n",
    "        \"date\": date,\n",
    "        \"time\": time,\n",
    "        \"image\": firebase_storageURL\n",
    "    })\n",
    "    \n",
    "def sendPush(name, title, msg, dataObject=None):\n",
    "    os.environ['GOOGLE_APPLICATION_CREDENTIALS'] ='/Users/wongtiksoon/.config/gcloud/application_default_credentials.json'\n",
    "    db = firestore_async.Client(project=\"studentmonitoringsystem-2c071\")\n",
    "    \n",
    "    studentdata = db.collection(\"student\").where(\"studentid\", \"!=\", \"\")\n",
    "    parents = []\n",
    "    students = []\n",
    "    tokens = []\n",
    "    for student in studentdata.stream():   \n",
    "        formattedData = student.to_dict()\n",
    "        students.append(formattedData)\n",
    "\n",
    "    for student in students:\n",
    "        if student[\"name\"] == name:\n",
    "            parent = student[\"parentid\"]\n",
    "\n",
    "    parentdata = db.collection(\"users\").where(\"id\", \"==\", parent)\n",
    "    for parent in parentdata.stream():   \n",
    "        formattedData = parent.to_dict()\n",
    "        parents.append(formattedData)\n",
    "        \n",
    "    token = parents[0][\"token\"]\n",
    "    tokens.append(token)\n",
    "\n",
    "    message = messaging.MulticastMessage(\n",
    "        notification=messaging.Notification(\n",
    "            title=title,\n",
    "            body=msg\n",
    "        ),\n",
    "        data=dataObject,\n",
    "        tokens=tokens,\n",
    "    )\n",
    "\n",
    "    # Send a message to the device corresponding to the provided\n",
    "    # registration token.\n",
    "    response = messaging.send_multicast(message)\n",
    "    # Response is a message ID string.\n",
    "    print('Successfully sent message:', response)"
   ]
  },
  {
   "cell_type": "code",
   "execution_count": 2,
   "id": "e30c3026",
   "metadata": {},
   "outputs": [
    {
     "name": "stdout",
     "output_type": "stream",
     "text": [
      "Preparing data...\n",
      "Data prepared\n",
      "Total faces:  57\n",
      "Total labels:  57\n"
     ]
    }
   ],
   "source": [
    "#prepare training data\n",
    "#data will be in two lists of same size\n",
    "#one list will contain all the faces\n",
    "#other list will contain respective labels for each face\n",
    "print(\"Preparing data...\")\n",
    "faces, labels = prepare_training_data(\"/Users/wongtiksoon/Desktop/SMS/training-data\")\n",
    "print(\"Data prepared\")\n",
    "#print total faces and labels\n",
    "print(\"Total faces: \", len(faces))\n",
    "print(\"Total labels: \", len(labels))\n",
    "#create our LBPH face recognizer\n",
    "face_recognizer = cv2.face.LBPHFaceRecognizer_create()\n",
    "#train our face recognizer of our training faces\n",
    "face_recognizer.train(faces, np.array(labels))"
   ]
  },
  {
   "cell_type": "code",
   "execution_count": 3,
   "id": "9be56bbb",
   "metadata": {
    "scrolled": true
   },
   "outputs": [
    {
     "name": "stderr",
     "output_type": "stream",
     "text": [
      "Action: race: 100%|███████████████████████████████| 4/4 [00:03<00:00,  1.32it/s]\n"
     ]
    },
    {
     "name": "stdout",
     "output_type": "stream",
     "text": [
      "Confidence score being Mac is 56.33046790946825\n"
     ]
    },
    {
     "name": "stderr",
     "output_type": "stream",
     "text": [
      "Action: race: 100%|███████████████████████████████| 4/4 [00:01<00:00,  3.54it/s]\n"
     ]
    },
    {
     "name": "stdout",
     "output_type": "stream",
     "text": [
      "Confidence score being Wong is 57.203247756198735\n"
     ]
    },
    {
     "name": "stderr",
     "output_type": "stream",
     "text": [
      "Action: race: 100%|███████████████████████████████| 4/4 [00:01<00:00,  3.66it/s]\n"
     ]
    },
    {
     "name": "stdout",
     "output_type": "stream",
     "text": [
      "Confidence score being Adam is 59.845986530822884\n"
     ]
    },
    {
     "name": "stderr",
     "output_type": "stream",
     "text": [
      "Action: race: 100%|███████████████████████████████| 4/4 [00:01<00:00,  3.71it/s]\n"
     ]
    },
    {
     "name": "stdout",
     "output_type": "stream",
     "text": [
      "Confidence score being Daniel is 63.99342592324319\n"
     ]
    },
    {
     "name": "stderr",
     "output_type": "stream",
     "text": [
      "Action: race: 100%|███████████████████████████████| 4/4 [00:01<00:00,  3.64it/s]\n"
     ]
    },
    {
     "name": "stdout",
     "output_type": "stream",
     "text": [
      "Confidence score being Mac is 43.85540651246786\n"
     ]
    },
    {
     "name": "stderr",
     "output_type": "stream",
     "text": [
      "Action: race: 100%|███████████████████████████████| 4/4 [00:01<00:00,  3.79it/s]\n"
     ]
    },
    {
     "name": "stdout",
     "output_type": "stream",
     "text": [
      "Confidence score being Christine is 46.61875881217809\n"
     ]
    },
    {
     "name": "stderr",
     "output_type": "stream",
     "text": [
      "Action: race: 100%|███████████████████████████████| 4/4 [00:01<00:00,  3.77it/s]\n"
     ]
    },
    {
     "name": "stdout",
     "output_type": "stream",
     "text": [
      "Confidence score being Lim is 43.236094073359695\n"
     ]
    },
    {
     "name": "stderr",
     "output_type": "stream",
     "text": [
      "Action: race: 100%|███████████████████████████████| 4/4 [00:01<00:00,  3.68it/s]\n"
     ]
    },
    {
     "name": "stdout",
     "output_type": "stream",
     "text": [
      "Confidence score being Justin is 48.55144996887061\n"
     ]
    },
    {
     "name": "stderr",
     "output_type": "stream",
     "text": [
      "Action: race: 100%|███████████████████████████████| 4/4 [00:01<00:00,  3.81it/s]\n"
     ]
    },
    {
     "name": "stdout",
     "output_type": "stream",
     "text": [
      "Confidence score being Wong is 39.818468826572364\n"
     ]
    },
    {
     "name": "stderr",
     "output_type": "stream",
     "text": [
      "Action: race: 100%|███████████████████████████████| 4/4 [00:01<00:00,  3.64it/s]\n"
     ]
    },
    {
     "name": "stdout",
     "output_type": "stream",
     "text": [
      "Confidence score being Wong is 56.92298965345975\n"
     ]
    },
    {
     "name": "stderr",
     "output_type": "stream",
     "text": [
      "Action: race: 100%|███████████████████████████████| 4/4 [00:01<00:00,  3.73it/s]\n"
     ]
    },
    {
     "name": "stdout",
     "output_type": "stream",
     "text": [
      "Confidence score being Adam is 53.0928060479199\n"
     ]
    },
    {
     "name": "stderr",
     "output_type": "stream",
     "text": [
      "Action: race: 100%|███████████████████████████████| 4/4 [00:01<00:00,  3.57it/s]\n"
     ]
    },
    {
     "name": "stdout",
     "output_type": "stream",
     "text": [
      "Confidence score being Adam is 41.43828892849219\n"
     ]
    },
    {
     "name": "stderr",
     "output_type": "stream",
     "text": [
      "Action: race: 100%|███████████████████████████████| 4/4 [00:01<00:00,  3.70it/s]\n"
     ]
    },
    {
     "name": "stdout",
     "output_type": "stream",
     "text": [
      "Confidence score being Wong is 68.45484777732013\n"
     ]
    },
    {
     "name": "stderr",
     "output_type": "stream",
     "text": [
      "Action: race: 100%|███████████████████████████████| 4/4 [00:01<00:00,  3.77it/s]\n"
     ]
    },
    {
     "name": "stdout",
     "output_type": "stream",
     "text": [
      "Confidence score being Daniel is 68.75643043118845\n"
     ]
    },
    {
     "name": "stderr",
     "output_type": "stream",
     "text": [
      "Action: race: 100%|███████████████████████████████| 4/4 [00:01<00:00,  3.72it/s]\n"
     ]
    },
    {
     "name": "stdout",
     "output_type": "stream",
     "text": [
      "Confidence score being Justin is 58.65024307354299\n",
      "Prediction complete\n",
      "Total predicted:  15\n"
     ]
    }
   ],
   "source": [
    "data_folder_path = \"/Users/wongtiksoon/Desktop/SMS/test-data\"\n",
    "dirs = os.listdir(data_folder_path)\n",
    "\n",
    "predicted = []\n",
    "for img in dirs:\n",
    "    if img.startswith(\".\"):\n",
    "            continue;\n",
    "    image_path = data_folder_path+ \"/\" + img\n",
    "    #load test images\n",
    "    test_img = cv2.imread(image_path)\n",
    "    #perform a prediction\n",
    "    predicted_img = predict(test_img)\n",
    "    cv2.imshow(img, predicted_img)\n",
    "\n",
    "\n",
    "print(\"Prediction complete\")\n",
    "print(\"Total predicted: \", len(predicted))\n",
    "cv2.waitKey(0)\n",
    "cv2.destroyAllWindows()\n",
    "cv2.waitKey(1)\n",
    "cv2.destroyAllWindows()"
   ]
  },
  {
   "cell_type": "code",
   "execution_count": 4,
   "id": "445a7f03",
   "metadata": {},
   "outputs": [
    {
     "name": "stdout",
     "output_type": "stream",
     "text": [
      "['Mac', 'Tee', 'Adam', 'Daniel', 'Mac', 'Christine', 'Lim', 'Justin', 'Wong', 'Adam', 'Jacob', 'Adam', 'Wong', 'Sam', 'Justin']\n",
      "['Mac', 'Wong', 'Adam', 'Daniel', 'Mac', 'Christine', 'Lim', 'Justin', 'Wong', 'Wong', 'Adam', 'Adam', 'Wong', 'Daniel', 'Justin']\n"
     ]
    }
   ],
   "source": [
    "import os\n",
    "path = '/Users/wongtiksoon/Desktop/SMS/test-data'\n",
    "files = os.listdir(path)\n",
    "\n",
    "names = []\n",
    "for name in files:\n",
    "    if name.startswith(\".\"):\n",
    "        continue;\n",
    "    name = name.replace('.jpeg', \"\")\n",
    "    name = ''.join(i for i in name if not i.isdigit())\n",
    "    names.append(name)\n",
    "print(names)\n",
    "print(predicted)"
   ]
  },
  {
   "cell_type": "code",
   "execution_count": 5,
   "id": "7eb603ac",
   "metadata": {},
   "outputs": [
    {
     "name": "stdout",
     "output_type": "stream",
     "text": [
      "Accuracy: 73.33%\n"
     ]
    }
   ],
   "source": [
    "from sklearn.metrics import accuracy_score\n",
    "accuracy = accuracy_score(names, predicted)\n",
    "print(\"Accuracy: {:.2f}%\".format(accuracy * 100))"
   ]
  },
  {
   "cell_type": "code",
   "execution_count": null,
   "id": "4d30555b",
   "metadata": {},
   "outputs": [],
   "source": [
    "image_path = \"/Users/wongtiksoon/Desktop/SMS/test-data/Wong12.jpeg\"\n",
    "uploaded_image = cv2.imread(image_path)\n",
    "predicted_img = predict(uploaded_image)\n",
    "\n",
    "now = datetime.now()\n",
    "dt = now.strftime(\"%d_%m_%Y_%H_%M_%S\")\n",
    "\n",
    "path = \"/Users/wongtiksoon/Desktop/SMS/Attendance\"\n",
    "\n",
    "if predicted_img is not None:\n",
    "    cv2.imshow(\"Attendance\", predicted_img)\n",
    "\n",
    "    # the format for storing the images scrreenshotted\n",
    "    img_name = f'attendance_{dt}.jpeg'\n",
    "            # saves the image as a jpeg file\n",
    "    new_path = os.path.join(path , img_name)\n",
    "    cv2.imwrite(new_path, predicted_img)\n",
    "            \n",
    "    upload(label_text, emotion, new_path, img_name)\n",
    "    sendPush(label_text, \"SMS\", \"Attendance taken by student.\")\n",
    "    print(\"Attendance uploaded!\")\n",
    "else:\n",
    "    print(\"Attendance failed to capture!\")\n",
    "\n",
    "cv2.waitKey(0)\n",
    "cv2.destroyAllWindows()\n",
    "cv2.waitKey(1)\n",
    "cv2.destroyAllWindows()"
   ]
  },
  {
   "cell_type": "code",
   "execution_count": 6,
   "id": "c287c68f",
   "metadata": {},
   "outputs": [
    {
     "name": "stderr",
     "output_type": "stream",
     "text": [
      "Action: race: 100%|███████████████████████████████| 4/4 [00:01<00:00,  3.50it/s]\n"
     ]
    },
    {
     "name": "stdout",
     "output_type": "stream",
     "text": [
      "Confidence score being Wong is 52.17527263667704\n",
      "Attendance uploaded!\n"
     ]
    }
   ],
   "source": [
    "# intialize the webcam and pass a constant which is 0\n",
    "cam = cv2.VideoCapture(0)\n",
    "\n",
    "# while loop\n",
    "while True:\n",
    "    # intializing the frame, ret\n",
    "    ret, frame = cam.read()\n",
    "    # if statement\n",
    "    if not ret:\n",
    "        print('failed to grab frame')\n",
    "        break\n",
    "    # the frame will show with the title of test\n",
    "    cv2.imshow('Attendance', frame)\n",
    "    #to get continuous live video feed from my laptops webcam\n",
    "    k  = cv2.waitKey(1)\n",
    "    # if the escape key is been pressed, the app will stop\n",
    "    if k%256 == 27:\n",
    "        print('escape hit, closing the camera')\n",
    "        break\n",
    "    # if the spacebar key is been pressed\n",
    "    # screenshots will be taken\n",
    "    elif k%256 == 32:\n",
    "        # datetime object containing current date and time\n",
    "        now = datetime.now()\n",
    "        dt = now.strftime(\"%d_%m_%Y_%H_%M_%S\")\n",
    "        \n",
    "        predicted_img = predict(frame)\n",
    "        \n",
    "        if predicted_img is not None:\n",
    "            cv2.imshow(\"Attendance\", predicted_img)\n",
    "            # the format for storing the images screenshotted\n",
    "            img_name = f'attendance_{dt}.jpeg'\n",
    "            path = \"/Users/wongtiksoon/Desktop/SMS/Attendance\"\n",
    "            new_path = os.path.join(path , img_name)\n",
    "            cv2.imwrite(new_path, predicted_img)\n",
    "            \n",
    "            upload(label_text, emotion, new_path, img_name)\n",
    "            sendPush(label_text, \"SMS\", \"Attendance taken by student.\")\n",
    "            print(\"Attendance uploaded!\")\n",
    "            break\n",
    "        else:\n",
    "            print(\"Attendance failed to capture!\")\n",
    "            break\n",
    "\n",
    "# release the camera\n",
    "cam.release()\n",
    "\n",
    "# stops the camera window\n",
    "cv2.waitKey(0)\n",
    "cv2.destroyAllWindows()\n",
    "cv2.waitKey(1)\n",
    "cv2.destroyAllWindows()"
   ]
  },
  {
   "cell_type": "code",
   "execution_count": null,
   "id": "e4c5ce22",
   "metadata": {},
   "outputs": [],
   "source": []
  }
 ],
 "metadata": {
  "kernelspec": {
   "display_name": "Python 3 (ipykernel)",
   "language": "python",
   "name": "python3"
  },
  "language_info": {
   "codemirror_mode": {
    "name": "ipython",
    "version": 3
   },
   "file_extension": ".py",
   "mimetype": "text/x-python",
   "name": "python",
   "nbconvert_exporter": "python",
   "pygments_lexer": "ipython3",
   "version": "3.9.13"
  }
 },
 "nbformat": 4,
 "nbformat_minor": 5
}
